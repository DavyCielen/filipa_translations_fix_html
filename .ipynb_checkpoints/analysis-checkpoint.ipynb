{
 "cells": [
  {
   "cell_type": "code",
   "execution_count": 2,
   "metadata": {},
   "outputs": [],
   "source": [
    "import pandas as pd\n",
    "source = pd.read_excel(\"products.xlsx\")\n",
    "target = pd.read_excel(\"products_FR_V2.xlsx\")"
   ]
  },
  {
   "cell_type": "code",
   "execution_count": 3,
   "metadata": {},
   "outputs": [
    {
     "data": {
      "text/plain": [
       "array([ True,  True,  True,  True,  True,  True,  True,  True,  True])"
      ]
     },
     "execution_count": 3,
     "metadata": {},
     "output_type": "execute_result"
    }
   ],
   "source": [
    "source.columns == target.columns"
   ]
  },
  {
   "cell_type": "code",
   "execution_count": 4,
   "metadata": {},
   "outputs": [],
   "source": [
    "import pandas as pd\n",
    "\n",
    "# Load the uploaded files\n",
    "products_df = pd.read_excel('products.xlsx')\n",
    "products_fr_v2_df = pd.read_excel('products_FR_V2.xlsx')\n",
    "\n",
    "# Rename columns in products_df by adding 'nl_' prefix\n",
    "products_df.columns = ['nl_' + col for col in products_df.columns]\n",
    "\n",
    "# Merge the two DataFrames\n",
    "merged_df = pd.concat([products_df, products_fr_v2_df], axis=1)\n"
   ]
  },
  {
   "cell_type": "code",
   "execution_count": 5,
   "metadata": {},
   "outputs": [
    {
     "data": {
      "text/html": [
       "<div>\n",
       "<style scoped>\n",
       "    .dataframe tbody tr th:only-of-type {\n",
       "        vertical-align: middle;\n",
       "    }\n",
       "\n",
       "    .dataframe tbody tr th {\n",
       "        vertical-align: top;\n",
       "    }\n",
       "\n",
       "    .dataframe thead th {\n",
       "        text-align: right;\n",
       "    }\n",
       "</style>\n",
       "<table border=\"1\" class=\"dataframe\">\n",
       "  <thead>\n",
       "    <tr style=\"text-align: right;\">\n",
       "      <th></th>\n",
       "      <th>nl_id</th>\n",
       "      <th>nl_Pack unit plural</th>\n",
       "      <th>nl_Pack unit</th>\n",
       "      <th>nl_Meta title</th>\n",
       "      <th>nl_Keywords</th>\n",
       "      <th>nl_Description</th>\n",
       "      <th>nl_Meta description</th>\n",
       "      <th>nl_Custom search keywords</th>\n",
       "      <th>nl_name</th>\n",
       "      <th>id</th>\n",
       "      <th>Pack unit plural</th>\n",
       "      <th>Pack unit</th>\n",
       "      <th>Meta title</th>\n",
       "      <th>Keywords</th>\n",
       "      <th>Description</th>\n",
       "      <th>Meta description</th>\n",
       "      <th>Custom search keywords</th>\n",
       "      <th>name</th>\n",
       "    </tr>\n",
       "  </thead>\n",
       "  <tbody>\n",
       "    <tr>\n",
       "      <th>0</th>\n",
       "      <td>51bd0d999c7a4fd28e1eee231f2fee50</td>\n",
       "      <td>NaN</td>\n",
       "      <td>NaN</td>\n",
       "      <td>NaN</td>\n",
       "      <td>NaN</td>\n",
       "      <td>&lt;h2&gt;Ade Keukenweegschaal Ramona - Elektronisch...</td>\n",
       "      <td>NaN</td>\n",
       "      <td>NaN</td>\n",
       "      <td>Ade Keukenweegschaal Ramona - Elektronisch - B...</td>\n",
       "      <td>51bd0d999c7a4fd28e1eee231f2fee50</td>\n",
       "      <td>NaN</td>\n",
       "      <td>NaN</td>\n",
       "      <td>NaN</td>\n",
       "      <td>NaN</td>\n",
       "      <td>&lt;h2&gt;Balance de cuisine Ade Ramona - Électroniq...</td>\n",
       "      <td>NaN</td>\n",
       "      <td>NaN</td>\n",
       "      <td>Balance de cuisine Ade Ramona - Électronique -...</td>\n",
       "    </tr>\n",
       "    <tr>\n",
       "      <th>1</th>\n",
       "      <td>2827dc8808df485d9f676f98325daadc</td>\n",
       "      <td>NaN</td>\n",
       "      <td>NaN</td>\n",
       "      <td>Ade Digitale Keukenweegschaal Cleo - D&amp;L</td>\n",
       "      <td>NaN</td>\n",
       "      <td>&lt;h2&gt;Ade Keukenweegschaal Cleo - Elektronisch -...</td>\n",
       "      <td>Ade Digitale Keukenweegschaal Cleo</td>\n",
       "      <td>[\"weegschaal\"]</td>\n",
       "      <td>Ade Digitale Keukenweegschaal Cleo</td>\n",
       "      <td>2827dc8808df485d9f676f98325daadc</td>\n",
       "      <td>NaN</td>\n",
       "      <td>NaN</td>\n",
       "      <td>Balance de cuisine numérique Ade Cleo - D&amp;L</td>\n",
       "      <td>NaN</td>\n",
       "      <td>&lt;h2&gt;Balance de cuisine Ade Cleo - Électronique...</td>\n",
       "      <td>Balance de cuisine numérique Ade Cleo</td>\n",
       "      <td>[\"balance\"]</td>\n",
       "      <td>Balance de cuisine numérique Ade Cleo</td>\n",
       "    </tr>\n",
       "    <tr>\n",
       "      <th>2</th>\n",
       "      <td>d657a7202ef54ff9a79b7ab44ef6780e</td>\n",
       "      <td>NaN</td>\n",
       "      <td>NaN</td>\n",
       "      <td>Ade Keukenweegschaal Julia - Elektronisch - Wi...</td>\n",
       "      <td>NaN</td>\n",
       "      <td>&lt;h2&gt;Ade Keukenweegschaal Julia - Elektronisch ...</td>\n",
       "      <td>Ade Keukenweegschaal Julia - Elektronisch - Wit</td>\n",
       "      <td>[\"keuken weegschaal\"]</td>\n",
       "      <td>Ade Keukenweegschaal Julia - Elektronisch - Wit</td>\n",
       "      <td>d657a7202ef54ff9a79b7ab44ef6780e</td>\n",
       "      <td>NaN</td>\n",
       "      <td>NaN</td>\n",
       "      <td>Balance de cuisine Ade Julia - Électronique - ...</td>\n",
       "      <td>NaN</td>\n",
       "      <td>&lt;h2&gt;Balance de cuisine Ade Julia - Électroniqu...</td>\n",
       "      <td>Balance de cuisine Ade Julia - Électronique - ...</td>\n",
       "      <td>[\"balance de cuisine\"]</td>\n",
       "      <td>Balance de cuisine Ade Julia - Électronique - ...</td>\n",
       "    </tr>\n",
       "    <tr>\n",
       "      <th>3</th>\n",
       "      <td>2bb95019f5c240a0b9e75fe37eb2fb57</td>\n",
       "      <td>NaN</td>\n",
       "      <td>NaN</td>\n",
       "      <td>NaN</td>\n",
       "      <td>NaN</td>\n",
       "      <td>&lt;h2&gt;Ade Keukenweegschaal Angelina - Elektronis...</td>\n",
       "      <td>NaN</td>\n",
       "      <td>NaN</td>\n",
       "      <td>Ade Keukenweegschaal Angelina - Elektronisch -...</td>\n",
       "      <td>2bb95019f5c240a0b9e75fe37eb2fb57</td>\n",
       "      <td>NaN</td>\n",
       "      <td>NaN</td>\n",
       "      <td>NaN</td>\n",
       "      <td>NaN</td>\n",
       "      <td>&lt;h2&gt;Balance de cuisine Ade Angelina - Électron...</td>\n",
       "      <td>NaN</td>\n",
       "      <td>NaN</td>\n",
       "      <td>Balance de cuisine Ade Angelina - Électronique...</td>\n",
       "    </tr>\n",
       "    <tr>\n",
       "      <th>4</th>\n",
       "      <td>f2d985cfd7134873842d1536adfd4142</td>\n",
       "      <td>NaN</td>\n",
       "      <td>NaN</td>\n",
       "      <td>NaN</td>\n",
       "      <td>NaN</td>\n",
       "      <td>&lt;h2&gt;Ade Keukenweegschaal Denise - Elektronisch...</td>\n",
       "      <td>NaN</td>\n",
       "      <td>NaN</td>\n",
       "      <td>Ade Keukenweegschaal Denise - Elektronisch - Z...</td>\n",
       "      <td>f2d985cfd7134873842d1536adfd4142</td>\n",
       "      <td>NaN</td>\n",
       "      <td>NaN</td>\n",
       "      <td>NaN</td>\n",
       "      <td>NaN</td>\n",
       "      <td>&lt;h2&gt;Balance de cuisine Ade Denise - Électroniq...</td>\n",
       "      <td>NaN</td>\n",
       "      <td>NaN</td>\n",
       "      <td>Balance de cuisine Ade Denise - Électronique -...</td>\n",
       "    </tr>\n",
       "  </tbody>\n",
       "</table>\n",
       "</div>"
      ],
      "text/plain": [
       "                              nl_id  nl_Pack unit plural  nl_Pack unit  \\\n",
       "0  51bd0d999c7a4fd28e1eee231f2fee50                  NaN           NaN   \n",
       "1  2827dc8808df485d9f676f98325daadc                  NaN           NaN   \n",
       "2  d657a7202ef54ff9a79b7ab44ef6780e                  NaN           NaN   \n",
       "3  2bb95019f5c240a0b9e75fe37eb2fb57                  NaN           NaN   \n",
       "4  f2d985cfd7134873842d1536adfd4142                  NaN           NaN   \n",
       "\n",
       "                                       nl_Meta title  nl_Keywords  \\\n",
       "0                                                NaN          NaN   \n",
       "1           Ade Digitale Keukenweegschaal Cleo - D&L          NaN   \n",
       "2  Ade Keukenweegschaal Julia - Elektronisch - Wi...          NaN   \n",
       "3                                                NaN          NaN   \n",
       "4                                                NaN          NaN   \n",
       "\n",
       "                                      nl_Description  \\\n",
       "0  <h2>Ade Keukenweegschaal Ramona - Elektronisch...   \n",
       "1  <h2>Ade Keukenweegschaal Cleo - Elektronisch -...   \n",
       "2  <h2>Ade Keukenweegschaal Julia - Elektronisch ...   \n",
       "3  <h2>Ade Keukenweegschaal Angelina - Elektronis...   \n",
       "4  <h2>Ade Keukenweegschaal Denise - Elektronisch...   \n",
       "\n",
       "                               nl_Meta description nl_Custom search keywords  \\\n",
       "0                                              NaN                       NaN   \n",
       "1               Ade Digitale Keukenweegschaal Cleo            [\"weegschaal\"]   \n",
       "2  Ade Keukenweegschaal Julia - Elektronisch - Wit     [\"keuken weegschaal\"]   \n",
       "3                                              NaN                       NaN   \n",
       "4                                              NaN                       NaN   \n",
       "\n",
       "                                             nl_name  \\\n",
       "0  Ade Keukenweegschaal Ramona - Elektronisch - B...   \n",
       "1                 Ade Digitale Keukenweegschaal Cleo   \n",
       "2    Ade Keukenweegschaal Julia - Elektronisch - Wit   \n",
       "3  Ade Keukenweegschaal Angelina - Elektronisch -...   \n",
       "4  Ade Keukenweegschaal Denise - Elektronisch - Z...   \n",
       "\n",
       "                                 id  Pack unit plural  Pack unit  \\\n",
       "0  51bd0d999c7a4fd28e1eee231f2fee50               NaN        NaN   \n",
       "1  2827dc8808df485d9f676f98325daadc               NaN        NaN   \n",
       "2  d657a7202ef54ff9a79b7ab44ef6780e               NaN        NaN   \n",
       "3  2bb95019f5c240a0b9e75fe37eb2fb57               NaN        NaN   \n",
       "4  f2d985cfd7134873842d1536adfd4142               NaN        NaN   \n",
       "\n",
       "                                          Meta title  Keywords  \\\n",
       "0                                                NaN       NaN   \n",
       "1        Balance de cuisine numérique Ade Cleo - D&L       NaN   \n",
       "2  Balance de cuisine Ade Julia - Électronique - ...       NaN   \n",
       "3                                                NaN       NaN   \n",
       "4                                                NaN       NaN   \n",
       "\n",
       "                                         Description  \\\n",
       "0  <h2>Balance de cuisine Ade Ramona - Électroniq...   \n",
       "1  <h2>Balance de cuisine Ade Cleo - Électronique...   \n",
       "2  <h2>Balance de cuisine Ade Julia - Électroniqu...   \n",
       "3  <h2>Balance de cuisine Ade Angelina - Électron...   \n",
       "4  <h2>Balance de cuisine Ade Denise - Électroniq...   \n",
       "\n",
       "                                    Meta description  Custom search keywords  \\\n",
       "0                                                NaN                     NaN   \n",
       "1              Balance de cuisine numérique Ade Cleo             [\"balance\"]   \n",
       "2  Balance de cuisine Ade Julia - Électronique - ...  [\"balance de cuisine\"]   \n",
       "3                                                NaN                     NaN   \n",
       "4                                                NaN                     NaN   \n",
       "\n",
       "                                                name  \n",
       "0  Balance de cuisine Ade Ramona - Électronique -...  \n",
       "1              Balance de cuisine numérique Ade Cleo  \n",
       "2  Balance de cuisine Ade Julia - Électronique - ...  \n",
       "3  Balance de cuisine Ade Angelina - Électronique...  \n",
       "4  Balance de cuisine Ade Denise - Électronique -...  "
      ]
     },
     "execution_count": 5,
     "metadata": {},
     "output_type": "execute_result"
    }
   ],
   "source": [
    "merged_df.head()"
   ]
  },
  {
   "cell_type": "code",
   "execution_count": 3,
   "metadata": {},
   "outputs": [
    {
     "data": {
      "text/plain": [
       "(4207, 18)"
      ]
     },
     "execution_count": 3,
     "metadata": {},
     "output_type": "execute_result"
    }
   ],
   "source": [
    "merged_df.shape"
   ]
  },
  {
   "cell_type": "code",
   "execution_count": 21,
   "metadata": {},
   "outputs": [
    {
     "name": "stdin",
     "output_type": "stream",
     "text": [
      " ········\n"
     ]
    }
   ],
   "source": [
    "import getpass\n",
    "import os\n",
    "\n",
    "os.environ[\"OPENAI_API_KEY\"] = getpass.getpass()\n",
    "\n",
    "from langchain_openai import ChatOpenAI\n",
    "\n",
    "model = ChatOpenAI(model=\"gpt-4o\",temperature=0)"
   ]
  },
  {
   "cell_type": "code",
   "execution_count": 7,
   "metadata": {},
   "outputs": [
    {
     "data": {
      "text/plain": [
       "AIMessage(content='ciao!', response_metadata={'token_usage': {'completion_tokens': 3, 'prompt_tokens': 20, 'total_tokens': 23}, 'model_name': 'gpt-4-0613', 'system_fingerprint': None, 'finish_reason': 'stop', 'logprobs': None}, id='run-e3da7188-815c-4242-8173-47a495fd4844-0', usage_metadata={'input_tokens': 20, 'output_tokens': 3, 'total_tokens': 23})"
      ]
     },
     "execution_count": 7,
     "metadata": {},
     "output_type": "execute_result"
    }
   ],
   "source": [
    "from langchain_core.messages import HumanMessage, SystemMessage\n",
    "\n",
    "messages = [\n",
    "    SystemMessage(content=\"Translate the following from English into Italian\"),\n",
    "    HumanMessage(content=\"hi!\"),\n",
    "]\n",
    "\n",
    "model.invoke(messages)"
   ]
  },
  {
   "cell_type": "code",
   "execution_count": 8,
   "metadata": {},
   "outputs": [],
   "source": [
    "from langchain_core.output_parsers import StrOutputParser\n",
    "\n",
    "parser = StrOutputParser()"
   ]
  },
  {
   "cell_type": "code",
   "execution_count": 9,
   "metadata": {},
   "outputs": [
    {
     "data": {
      "text/plain": [
       "'ciao!'"
      ]
     },
     "execution_count": 9,
     "metadata": {},
     "output_type": "execute_result"
    }
   ],
   "source": [
    "chain = model | parser\n",
    "chain.invoke(messages)"
   ]
  },
  {
   "cell_type": "code",
   "execution_count": 11,
   "metadata": {},
   "outputs": [],
   "source": [
    "from langchain_core.prompts import ChatPromptTemplate\n",
    "system_template = \"Translate the following into {language}:\""
   ]
  },
  {
   "cell_type": "code",
   "execution_count": 12,
   "metadata": {},
   "outputs": [
    {
     "data": {
      "text/plain": [
       "ChatPromptValue(messages=[SystemMessage(content='Translate the following into italian:'), HumanMessage(content='hi')])"
      ]
     },
     "execution_count": 12,
     "metadata": {},
     "output_type": "execute_result"
    }
   ],
   "source": [
    "prompt_template = ChatPromptTemplate.from_messages(\n",
    "    [(\"system\", system_template), (\"user\", \"{text}\")]\n",
    ")\n",
    "result = prompt_template.invoke({\"language\": \"italian\", \"text\": \"hi\"})\n",
    "\n",
    "result"
   ]
  },
  {
   "cell_type": "code",
   "execution_count": 23,
   "metadata": {},
   "outputs": [
    {
     "name": "stdout",
     "output_type": "stream",
     "text": [
      "51bd0d999c7a4fd28e1eee231f2fee50\n",
      "2827dc8808df485d9f676f98325daadc\n",
      "d657a7202ef54ff9a79b7ab44ef6780e\n",
      "2bb95019f5c240a0b9e75fe37eb2fb57\n",
      "f2d985cfd7134873842d1536adfd4142\n",
      "864d02fe45f6450dba7807ef133f916d\n",
      "16f8aacd5a2b4ab68997fe59a83ca5b4\n",
      "efdfb41415ae48da8acd86e02e93723f\n",
      "40c5262cafdf470d9169cb27851ec851\n",
      "52190055307741a8a571b9cd23983953\n"
     ]
    }
   ],
   "source": [
    "system_template = \"\"\"You are getting a translation from dutch to french, \n",
    "however the translation software has made mistakes in putting html back into the target language. \n",
    "You need to keep the translation text itself intact, \n",
    "but need to to fix the html so that the html in the target matches the html in the source. \n",
    "the information will be: ID: id, SOURCE_NAME: source text, \n",
    "                         TARGET_NAME: target name with possible errors in name, \n",
    "                         SOURCE_DESCRIPTION: source description,\n",
    "                         TARGET_DESCRIPTION: target description with possible errors in html. \n",
    "you give back the corrected target text. if it is correct, just give back correct, else the corrected output \n",
    "The source html is the truth.\n",
    "after you have fixed the html, you need to check that the translated text is exactly the same.\n",
    "output format in json with fields: id,\n",
    "                                  skipped_because_correct,\n",
    "                                  source_name, \n",
    "                                  target_name, \n",
    "                                  corrected_target_name,  \n",
    "                                  verified_translation_is_equal_to_target_name, \n",
    "                                  text_without_html_is_equal_to_target_name,\n",
    "                                  source_description,\n",
    "                                  target_description,\n",
    "                                  corrected_target_description,\n",
    "                                  verified_translation_is_equal_to_target_description,\n",
    "                                  text_without_html_is_equal_to_target_description\n",
    "if the html is the same in name and description, you can just set the skipped_because_correst to True and set other fields to None but include them in the other fields\n",
    "                                  \n",
    "\"\"\"\n",
    "from pydantic import BaseModel\n",
    "from typing import Optional\n",
    "\n",
    "class ProductTranslation(BaseModel):\n",
    "    id: str\n",
    "    skipped_because_correct: Optional[bool]\n",
    "    source_name: Optional[str]\n",
    "    target_name: Optional[str]\n",
    "    corrected_target_name: Optional[str]\n",
    "    verified_translation_is_equal_to_target_name: Optional[bool]\n",
    "    text_without_html_is_equal_to_target_name: Optional[bool]\n",
    "    source_description: Optional[str]\n",
    "    target_description: Optional[str]\n",
    "    corrected_target_description: Optional[str]\n",
    "    verified_translation_is_equal_to_target_description: Optional[bool]\n",
    "    text_without_html_is_equal_to_target_description: Optional[bool]\n",
    "    \n",
    "from langchain_core.output_parsers import JsonOutputParser\n",
    "parser = JsonOutputParser(pydantic_object=ProductTranslation)\n",
    "prompt_template = ChatPromptTemplate.from_messages(\n",
    "    [(\"system\", system_template), (\"user\", \"ID:{id}, SOURCE_NAME:{source_name}, TARGET_NAME:{target_name}, SOURCE_DESCRIPTION:{source_description}, TARGET_DESCRIPTION:{target_description}\")]\n",
    ")\n",
    "\n",
    "output = []\n",
    "chain = prompt_template | model | parser\n",
    "for i, row in merged_df[:10].iterrows():\n",
    "    result = chain.invoke({\"id\":row['id'],\n",
    "                           \"source_name\": row['nl_name'], \n",
    "                           \"target_name\": row['name'],\n",
    "                           \"source_description\": row['nl_Description'], \n",
    "                           \"target_description\": row['Description'],\n",
    "                          })\n",
    "    output.append(result)\n",
    "    print(row['id'])"
   ]
  },
  {
   "cell_type": "code",
   "execution_count": 27,
   "metadata": {},
   "outputs": [],
   "source": [
    "output_df = pd.DataFrame(output)\n",
    "\n",
    "merged_df_with_output = pd.merge(merged_df, output_df, on='id', how='left')\n",
    "\n",
    "# Save the merged DataFrame to a file if needed\n",
    "merged_df_with_output.to_excel('merged_products_with_output.xlsx', index=False)"
   ]
  },
  {
   "cell_type": "code",
   "execution_count": null,
   "metadata": {},
   "outputs": [],
   "source": []
  }
 ],
 "metadata": {
  "kernelspec": {
   "display_name": "Python 3 (ipykernel)",
   "language": "python",
   "name": "python3"
  },
  "language_info": {
   "codemirror_mode": {
    "name": "ipython",
    "version": 3
   },
   "file_extension": ".py",
   "mimetype": "text/x-python",
   "name": "python",
   "nbconvert_exporter": "python",
   "pygments_lexer": "ipython3",
   "version": "3.10.13"
  }
 },
 "nbformat": 4,
 "nbformat_minor": 4
}
